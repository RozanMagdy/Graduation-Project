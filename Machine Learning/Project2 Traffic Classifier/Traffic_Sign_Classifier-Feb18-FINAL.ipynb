{
 "cells": [
  {
   "cell_type": "markdown",
   "metadata": {},
   "source": [
    "# Self-Driving Car Engineer Nanodegree\n",
    "\n",
    "## Deep Learning\n",
    "\n",
    "## Project: Build a Traffic Sign Recognition Classifier\n",
    "\n",
    "In this notebook, a template is provided for you to implement your functionality in stages which is required to successfully complete this project. If additional code is required that cannot be included in the notebook, be sure that the Python code is successfully imported and included in your submission, if necessary. Sections that begin with **'Implementation'** in the header indicate where you should begin your implementation for your project. Note that some sections of implementation are optional, and will be marked with **'Optional'** in the header.\n",
    "\n",
    "In addition to implementing code, there will be questions that you must answer which relate to the project and your implementation. Each section where you will answer a question is preceded by a **'Question'** header. Carefully read each question and provide thorough answers in the following text boxes that begin with **'Answer:'**. Your project submission will be evaluated based on your answers to each of the questions and the implementation you provide.\n",
    "\n",
    ">**Note:** Code and Markdown cells can be executed using the **Shift + Enter** keyboard shortcut. In addition, Markdown cells can be edited by typically double-clicking the cell to enter edit mode."
   ]
  },
  {
   "cell_type": "markdown",
   "metadata": {},
   "source": [
    "---\n",
    "## Step 0: Load The Data"
   ]
  },
  {
   "cell_type": "code",
   "execution_count": 1,
   "metadata": {},
   "outputs": [],
   "source": [
    "# Load pickled data\n",
    "import pickle\n",
    "\n",
    "# TODO: Fill this in based on where you saved the training and testing data\n",
    "\n",
    "training_file = 'train.p'\n",
    "testing_file = 'test.p'\n",
    "\n",
    "with open(training_file, mode='rb') as f:\n",
    "    train = pickle.load(f)\n",
    "with open(testing_file, mode='rb') as f:\n",
    "    test = pickle.load(f)\n",
    "    \n",
    "X_train, y_train = train['features'], train['labels']\n",
    "X_test, y_test = test['features'], test['labels']"
   ]
  },
  {
   "cell_type": "markdown",
   "metadata": {},
   "source": [
    "---\n",
    "\n",
    "## Step 1: Dataset Summary & Exploration\n",
    "\n",
    "The pickled data is a dictionary with 4 key/value pairs:\n",
    "\n",
    "- `'features'` is a 4D array containing raw pixel data of the traffic sign images, (num examples, width, height, channels).\n",
    "- `'labels'` is a 1D array containing the label/class id of the traffic sign. The file `signnames.csv` contains id -> name mappings for each id.\n",
    "- `'sizes'` is a list containing tuples, (width, height) representing the the original width and height the image.\n",
    "- `'coords'` is a list containing tuples, (x1, y1, x2, y2) representing coordinates of a bounding box around the sign in the image. **THESE COORDINATES ASSUME THE ORIGINAL IMAGE. THE PICKLED DATA CONTAINS RESIZED VERSIONS (32 by 32) OF THESE IMAGES**\n",
    "\n",
    "Complete the basic data summary below."
   ]
  },
  {
   "cell_type": "code",
   "execution_count": 2,
   "metadata": {},
   "outputs": [
    {
     "name": "stdout",
     "output_type": "stream",
     "text": [
      "Number of training examples = 39209\n",
      "Number of testing examples = 12630\n",
      "Image data shape = (32, 32, 3)\n",
      "Number of classes = 43\n"
     ]
    }
   ],
   "source": [
    "### Replace each question mark with the appropriate value.\n",
    "\n",
    "# TODO: Number of training examples\n",
    "n_train = len(X_train)\n",
    "\n",
    "# TODO: Number of testing examples.\n",
    "n_test = len(X_test)\n",
    "\n",
    "# TODO: What's the shape of an traffic sign image?\n",
    "image_shape = X_train[0].shape\n",
    "\n",
    "# TODO: How many unique classes/labels there are in the dataset.\n",
    "import csv\n",
    "dict_signs = {}\n",
    "with open('signnames.csv', 'r') as csvfile:\n",
    "    lines = csvfile.readlines()\n",
    "    n_classes = len(lines) - 1 \n",
    "    count = 0 \n",
    "    for row in lines:\n",
    "        if count > 0: \n",
    "            dict_signs[count - 1] = row.split(',')[1]\n",
    "        count += 1\n",
    "\n",
    "print(\"Number of training examples =\", n_train)\n",
    "print(\"Number of testing examples =\", n_test)\n",
    "print(\"Image data shape =\", image_shape)\n",
    "print(\"Number of classes =\", n_classes)"
   ]
  },
  {
   "cell_type": "markdown",
   "metadata": {},
   "source": [
    "Visualize the German Traffic Signs Dataset using the pickled file(s). This is open ended, suggestions include: plotting traffic sign images, plotting the count of each sign, etc.\n",
    "\n",
    "The [Matplotlib](http://matplotlib.org/) [examples](http://matplotlib.org/examples/index.html) and [gallery](http://matplotlib.org/gallery.html) pages are a great resource for doing visualizations in Python.\n",
    "\n",
    "**NOTE:** It's recommended you start with something simple first. If you wish to do more, come back to it after you've completed the rest of the sections."
   ]
  },
  {
   "cell_type": "code",
   "execution_count": 3,
   "metadata": {},
   "outputs": [
    {
     "name": "stdout",
     "output_type": "stream",
     "text": [
      "4\n",
      "Speed limit (70km/h)\n",
      "\n"
     ]
    },
    {
     "data": {
      "image/png": "[encoded data removed]",
      "text/plain": [
       "<Figure size 72x72 with 1 Axes>"
      ]
     },
     "metadata": {
      "needs_background": "light"
     },
     "output_type": "display_data"
    }
   ],
   "source": [
    "### Data exploration visualization goes here.\n",
    "### Feel free to use as many code cells as needed.\n",
    "import matplotlib.pyplot as plt\n",
    "# Visualizations will be shown in the notebook.\n",
    "%matplotlib inline\n",
    "\n",
    "import random\n",
    "index = random.randint(0, n_train)\n",
    "image = X_train[index]\n",
    "plt.figure(figsize=(1,1))\n",
    "plt.imshow(image)\n",
    "print(y_train[index])\n",
    "print(dict_signs[y_train[index]])"
   ]
  },
  {
   "cell_type": "markdown",
   "metadata": {},
   "source": [
    "----\n",
    "\n",
    "## Step 2: Design and Test a Model Architecture\n",
    "\n",
    "Design and implement a deep learning model that learns to recognize traffic signs. Train and test your model on the [German Traffic Sign Dataset](http://benchmark.ini.rub.de/?section=gtsrb&subsection=dataset).\n",
    "\n",
    "There are various aspects to consider when thinking about this problem:\n",
    "\n",
    "- Neural network architecture\n",
    "- Play around preprocessing techniques (normalization, rgb to grayscale, etc)\n",
    "- Number of examples per label (some have more than others).\n",
    "- Generate fake data.\n",
    "\n",
    "Here is an example of a [published baseline model on this problem](http://yann.lecun.com/exdb/publis/pdf/sermanet-ijcnn-11.pdf). It's not required to be familiar with the approach used in the paper but, it's good practice to try to read papers like these.\n",
    "\n",
    "**NOTE:** The LeNet-5 implementation shown in the [classroom](https://classroom.udacity.com/nanodegrees/nd013/parts/fbf77062-5703-404e-b60c-95b78b2f3f9e/modules/6df7ae49-c61c-4bb2-a23e-6527e69209ec/lessons/601ae704-1035-4287-8b11-e2c2716217ad/concepts/d4aca031-508f-4e0b-b493-e7b706120f81) at the end of the CNN lesson is a solid starting point. You'll have to change the number of classes and possibly the preprocessing, but aside from that it's plug and play!"
   ]
  },
  {
   "cell_type": "markdown",
   "metadata": {},
   "source": [
    "### Implementation\n",
    "\n",
    "Use the code cell (or multiple code cells, if necessary) to implement the first step of your project. Once you have completed your implementation and are satisfied with the results, be sure to thoroughly answer the questions that follow."
   ]
  },
  {
   "cell_type": "code",
   "execution_count": 4,
   "metadata": {},
   "outputs": [
    {
     "data": {
      "text/plain": [
       "(array([ 210., 2220., 2250., 1410., 1980., 1860.,  420., 1440., 1410.,\n",
       "        1470., 2010., 1320., 2100., 2160.,  780.,  630.,  420., 1110.,\n",
       "        1200.,  210.,  360.,  330.,  390.,  510.,  270., 1500.,  600.,\n",
       "         240.,  540.,  270.,  450.,  780.,  240.,  689.,  420., 1200.,\n",
       "         390.,  210., 2070.,  300.,  360.,  240.,  240.]),\n",
       " array([ 0.        ,  0.97674419,  1.95348837,  2.93023256,  3.90697674,\n",
       "         4.88372093,  5.86046512,  6.8372093 ,  7.81395349,  8.79069767,\n",
       "         9.76744186, 10.74418605, 11.72093023, 12.69767442, 13.6744186 ,\n",
       "        14.65116279, 15.62790698, 16.60465116, 17.58139535, 18.55813953,\n",
       "        19.53488372, 20.51162791, 21.48837209, 22.46511628, 23.44186047,\n",
       "        24.41860465, 25.39534884, 26.37209302, 27.34883721, 28.3255814 ,\n",
       "        29.30232558, 30.27906977, 31.25581395, 32.23255814, 33.20930233,\n",
       "        34.18604651, 35.1627907 , 36.13953488, 37.11627907, 38.09302326,\n",
       "        39.06976744, 40.04651163, 41.02325581, 42.        ]),\n",
       " <a list of 43 Patch objects>)"
      ]
     },
     "execution_count": 4,
     "metadata": {},
     "output_type": "execute_result"
    },
    {
     "data": {
      "image/png": "[encoded data removed]",
      "text/plain": [
       "<Figure size 432x288 with 1 Axes>"
      ]
     },
     "metadata": {
      "needs_background": "light"
     },
     "output_type": "display_data"
    }
   ],
   "source": [
    "### Preprocess the data here.\n",
    "##Constrast Limited Adaptative Histogram Equalization\n",
    "#import cv2\n",
    "#clahe = cv2.createCLAHE(clipLimit=2.0, tileGridSize=(8,8))\n",
    "#for i in range(len(X_train)):\n",
    "#    X_train[i][:][:][0] = clahe.apply(X_train[i][:][:][0])\n",
    "#    X_train[i][:][:][1] = clahe.apply(X_train[i][:][:][1])\n",
    "#    X_train[i][:][:][2] = clahe.apply(X_train[i][:][:][2])\n",
    "#for i in range(len(X_test)):   \n",
    "#    X_test[i][:][:][0] = clahe.apply(X_test[i][:][:][0])\n",
    "#    X_test[i][:][:][1] = clahe.apply(X_test[i][:][:][1])\n",
    "#    X_test[i][:][:][2] = clahe.apply(X_test[i][:][:][2])\n",
    "\n",
    "### min-max scaling\n",
    "import numpy as np\n",
    "X_train = -1 + 2*(X_train/255)\n",
    "X_test = -1 + 2*(X_test/255)\n",
    "plt.hist(y_train, bins=n_classes)"
   ]
  },
  {
   "cell_type": "code",
   "execution_count": 6,
   "metadata": {},
   "outputs": [
    {
     "name": "stdout",
     "output_type": "stream",
     "text": [
      "[ 210 2220 2250 1410 1980 1860  420 1440 1410 1470 2010 1320 2100 2160\n",
      "  780  630  420 1110 1200  210  360  330  390  510  270 1500  600  240\n",
      "  540  270  450  780  240  689  420 1200  390  210 2070  300  360  240\n",
      "  240]\n",
      "The max class is 2\n",
      "The number of training samples of class 2 is 2250\n"
     ]
    }
   ],
   "source": [
    "hist = np.histogram(y_train, bins=n_classes)\n",
    "hist_counts = hist[0]\n",
    "max_class = np.argmax(hist_counts)\n",
    "max_count = np.amax(hist_counts)\n",
    "print(hist_counts)\n",
    "print('The max class is ' + str(max_class))\n",
    "print('The number of training samples of class ' + str(max_class) + \" is \" + str(max_count))"
   ]
  },
  {
   "cell_type": "code",
   "execution_count": 7,
   "metadata": {},
   "outputs": [
    {
     "name": "stdout",
     "output_type": "stream",
     "text": [
      "Generating new data to balance the training dataset ... \n",
      "\n",
      "Class 0\n",
      " Percentage: 100.0%                                        \n",
      "\n",
      "Class 1\n",
      " Percentage: 100.0%                           \n",
      "\n",
      "Class 2\n",
      "\n",
      "\n",
      "Class 3\n",
      " Percentage: 100.0%                                        \n",
      "\n",
      "Class 4\n",
      " Percentage: 100.0%                                        \n",
      "\n",
      "Class 5\n",
      " Percentage: 100.0%                                        \n",
      "\n",
      "Class 6\n",
      " Percentage: 100.0%                                        \n",
      "\n",
      "Class 7\n",
      " Percentage: 100.0%                                        \n",
      "\n",
      "Class 8\n",
      " Percentage: 100.0%                                        \n",
      "\n",
      "Class 9\n",
      " Percentage: 100.0%                                        \n",
      "\n",
      "Class 10\n",
      " Percentage: 100.0%                                       \n",
      "\n",
      "Class 11\n",
      " Percentage: 100.0%                                        \n",
      "\n",
      "Class 12\n",
      " Percentage: 100.0%                                        \n",
      "\n",
      "Class 13\n",
      " Percentage: 100.0%                                       \n",
      "\n",
      "Class 14\n",
      " Percentage: 100.0%                                        \n",
      "\n",
      "Class 15\n",
      " Percentage: 100.0%                                        \n",
      "\n",
      "Class 16\n",
      " Percentage: 100.0%                                        \n",
      "\n",
      "Class 17\n",
      " Percentage: 100.0%                                        \n",
      "\n",
      "Class 18\n",
      " Percentage: 100.0%                                        \n",
      "\n",
      "Class 19\n",
      " Percentage: 100.0%                                        \n",
      "\n",
      "Class 20\n",
      " Percentage: 100.0%                                        \n",
      "\n",
      "Class 21\n",
      " Percentage: 100.0%                                        \n",
      "\n",
      "Class 22\n",
      " Percentage: 100.0%                                        \n",
      "\n",
      "Class 23\n",
      " Percentage: 100.0%                                        \n",
      "\n",
      "Class 24\n",
      " Percentage: 100.0%                                        \n",
      "\n",
      "Class 25\n",
      " Percentage: 100.0%                                        \n",
      "\n",
      "Class 26\n",
      " Percentage: 100.0%                                        \n",
      "\n",
      "Class 27\n",
      " Percentage: 100.0%                                        \n",
      "\n",
      "Class 28\n",
      " Percentage: 100.0%                                        \n",
      "\n",
      "Class 29\n",
      " Percentage: 100.0%                                        \n",
      "\n",
      "Class 30\n",
      " Percentage: 100.0%                                        \n",
      "\n",
      "Class 31\n",
      " Percentage: 100.0%                                        \n",
      "\n",
      "Class 32\n",
      " Percentage: 100.0%                                        \n",
      "\n",
      "Class 33\n",
      " Percentage: 100.0%                                        \n",
      "\n",
      "Class 34\n",
      " Percentage: 100.0%                                        \n",
      "\n",
      "Class 35\n",
      " Percentage: 100.0%                                        \n",
      "\n",
      "Class 36\n",
      " Percentage: 100.0%                                        \n",
      "\n",
      "Class 37\n",
      " Percentage: 100.0%                                        \n",
      "\n",
      "Class 38\n",
      " Percentage: 100.0%                                        \n",
      "\n",
      "Class 39\n",
      " Percentage: 100.0%                                        \n",
      "\n",
      "Class 40\n",
      " Percentage: 100.0%                                        \n",
      "\n",
      "Class 41\n",
      " Percentage: 100.0%                                        \n",
      "\n",
      "Class 42\n",
      " Percentage: 100.0%                                        \n",
      "\n",
      "Data Generation Completed !\n"
     ]
    }
   ],
   "source": [
    "import sys\n",
    "import os\n",
    "from scipy import ndimage\n",
    "\n",
    "n_extra_data = 0\n",
    "diff_list = []\n",
    "for i in range(n_classes):\n",
    "    diff = max_count - hist_counts[i]\n",
    "    diff_list.append(diff)\n",
    "    n_extra_data += diff \n",
    "    \n",
    "X_new = np.zeros([n_train + n_extra_data,32,32,3])\n",
    "y_new = np.zeros(n_train + n_extra_data)\n",
    "X_new[0:n_train, :, :, :] = X_train \n",
    "y_new[0:n_train] = y_train\n",
    "\n",
    "print(\"Generating new data to balance the training dataset ... \\n\")\n",
    "count = 0\n",
    "for i in range(n_classes):\n",
    "    diff = diff_list[i]\n",
    "    indices_same_class = np.where(y_train == i)[0]\n",
    "    print(\"Class \" + str(i))\n",
    "    for k in range(diff):\n",
    "        percent = 100.0*k/(diff-1)\n",
    "        if k%50 == 0 or percent == 100.0:\n",
    "            sys.stdout.write(\"\\r Percentage: \" + str(percent) + \"%                           \\r\")\n",
    "            sys.stdout.flush()\n",
    "        random_index = random.choice(indices_same_class) \n",
    "        random_sample = X_train[random_index]\n",
    "        random_rotation = random.uniform(-10, 10)\n",
    "        random_sample = ndimage.rotate(random_sample, random_rotation, reshape=False)\n",
    "        random_sample = random_sample.reshape(1,32,32,3)\n",
    "        random_value = random.uniform(-0.2, 0.2)\n",
    "        if random_value >= 0:\n",
    "            random_sample = np.where((random_sample + random_value) > 1,1,random_sample+random_value)\n",
    "        else:\n",
    "            random_sample = np.where((random_sample + random_value) < -1,-1,random_sample+random_value)\n",
    "        X_new[n_train + count, :,:,:] = random_sample\n",
    "        y_new[n_train + count] = i\n",
    "        count += 1\n",
    "    print(\"\\n\")\n",
    "X_train = X_new\n",
    "del X_new\n",
    "y_train = y_new\n",
    "del y_new\n",
    "print(\"Data Generation Completed !\")"
   ]
  },
  {
   "cell_type": "code",
   "execution_count": 8,
   "metadata": {},
   "outputs": [],
   "source": [
    "import os \n",
    "\n",
    "balanced_data = {\"features\":X_train, \"labels\":y_train}\n",
    "filename = 'balanced_train_data.pickle'\n",
    "if os.path.exists(filename):\n",
    "    os.remove(filename)\n",
    "with open(filename, 'wb') as f:\n",
    "    pickle.dump(balanced_data, f, pickle.HIGHEST_PROTOCOL)"
   ]
  },
  {
   "cell_type": "code",
   "execution_count": 9,
   "metadata": {},
   "outputs": [
    {
     "name": "stdout",
     "output_type": "stream",
     "text": [
      "The new size of the training dataset is 96750\n",
      "96750\n"
     ]
    },
    {
     "data": {
      "image/png": "[encoded data removed]",
      "text/plain": [
       "<Figure size 432x288 with 1 Axes>"
      ]
     },
     "metadata": {
      "needs_background": "light"
     },
     "output_type": "display_data"
    }
   ],
   "source": [
    "with open(filename, 'rb') as f:\n",
    "    data = pickle.load(f)\n",
    "    X_train = data[\"features\"]\n",
    "    y_train = data[\"labels\"]\n",
    "plt.hist(y_train, bins=n_classes)\n",
    "print(\"The new size of the training dataset is \" + str(len(y_train)))\n",
    "print(len(X_train))"
   ]
  },
  {
   "cell_type": "markdown",
   "metadata": {},
   "source": [
    "### Question 1 \n",
    "\n",
    "_Describe how you preprocessed the data. Why did you choose that technique?_"
   ]
  },
  {
   "cell_type": "markdown",
   "metadata": {},
   "source": [
    "**Answer:** I used min-max scaling to normalize the training and test data to a range that goes from -1 to 1. This is very helpful as we would like our features to be of similar magnitude in order for gradient descent not to be biased towards certain features. Moreover, it's much easier for an optimizer to work on a \"well-conditioned\" dataset, i.e. 0 mean and equal variance. I chose not to convert the training and test images from colour to grayscale as I believe that colour might be important when detecting traffic signs."
   ]
  },
  {
   "cell_type": "code",
   "execution_count": 10,
   "metadata": {},
   "outputs": [],
   "source": [
    "### Generate additional data (OPTIONAL!)\n",
    "### and split the data into training/validation/testing sets here.\n",
    "### Feel free to use as many code cells as needed.\n",
    "from sklearn.model_selection import train_test_split\n",
    "\n",
    "X_train, X_validation, y_train, y_validation = train_test_split(X_train, y_train, test_size=0.2, random_state=0)"
   ]
  },
  {
   "cell_type": "markdown",
   "metadata": {},
   "source": [
    "### Question 2\n",
    "\n",
    "_Describe how you set up the training, validation and testing data for your model. **Optional**: If you generated additional data, how did you generate the data? Why did you generate the data? What are the differences in the new dataset (with generated data) from the original dataset?_"
   ]
  },
  {
   "cell_type": "markdown",
   "metadata": {},
   "source": [
    "**Answer:** As soon as I plotted my original training dataset using a histogram, I realized how imbalanced it was. Hence, I decided to generate additional training data by rotating and changing the brightness of enough random images from each class so that all classes have the same number of instances as the class corresponding to the tallest peak of the above-mentioned histogram. <br> \n",
    "I split my original training data into a training set and a validation set, i.e. 80% and 20% of the original training data respectively. I retained the original test set (see above)."
   ]
  },
  {
   "cell_type": "code",
   "execution_count": 11,
   "metadata": {},
   "outputs": [],
   "source": [
    "### Define your architecture here.\n",
    "### Feel free to use as many code cells as needed.\n",
    "import tensorflow as tf\n",
    "from tensorflow.contrib.layers import flatten\n",
    "\n",
    "def LeNet(x,keep_prob):    \n",
    "    mu = 0\n",
    "    sigma = 0.1\n",
    "    \n",
    "    # Layer 1: Convolutional. Input = 32x32x3. Output = 28x28x12.\n",
    "    conv1_W = tf.Variable(tf.truncated_normal(shape=(5, 5, 3, 12), mean = mu, stddev = sigma))\n",
    "    conv1_b = tf.Variable(tf.zeros(12))\n",
    "    conv1   = tf.nn.conv2d(x, conv1_W, strides=[1, 1, 1, 1], padding='VALID') + conv1_b\n",
    "\n",
    "    # Activation.\n",
    "    conv1 = tf.nn.relu(conv1)\n",
    "\n",
    "    # Pooling. Input = 28x28x12. Output = 14x14x12.\n",
    "    conv1 = tf.nn.max_pool(conv1, ksize=[1, 2, 2, 1], strides=[1, 2, 2, 1], padding='VALID')\n",
    "\n",
    "    # Layer 2: Convolutional. Output = 10x10x32.\n",
    "    conv2_W = tf.Variable(tf.truncated_normal(shape=(5, 5, 12, 32), mean = mu, stddev = sigma))\n",
    "    conv2_b = tf.Variable(tf.zeros(32))\n",
    "    conv2   = tf.nn.conv2d(conv1, conv2_W, strides=[1, 1, 1, 1], padding='VALID') + conv2_b\n",
    "    \n",
    "    # Activation.\n",
    "    conv2 = tf.nn.relu(conv2)\n",
    "\n",
    "    # Pooling. Input = 10x10x32. Output = 5x5x32.\n",
    "    conv2 = tf.nn.max_pool(conv2, ksize=[1, 2, 2, 1], strides=[1, 2, 2, 1], padding='VALID')\n",
    "    \n",
    "    # Flatten. Input = 5x5x32. Output = 800.\n",
    "    fc0   = flatten(conv2)\n",
    "\n",
    "    # Layer 3: Fully Connected. Input = 800. Output = 120.\n",
    "    fc2_W  = tf.Variable(tf.truncated_normal(shape=(800, 120), mean = mu, stddev = sigma))\n",
    "    fc2_b  = tf.Variable(tf.zeros(120))\n",
    "    fc2    = tf.matmul(fc0, fc2_W) + fc2_b\n",
    "    \n",
    "    # Activation.\n",
    "    fc2    = tf.nn.relu(fc2)\n",
    "    \n",
    "    # Dropout Layer \n",
    "    fc2 = tf.nn.dropout(fc2, keep_prob)\n",
    "    \n",
    "     # Layer 4: Fully Connected. Input = 120. Output = 84.\n",
    "    fc3_W  = tf.Variable(tf.truncated_normal(shape=(120, 84), mean = mu, stddev = sigma))\n",
    "    fc3_b  = tf.Variable(tf.zeros(84))\n",
    "    fc3    = tf.matmul(fc2, fc3_W) + fc3_b\n",
    "    \n",
    "    # Activation.\n",
    "    fc3    = tf.nn.relu(fc3)\n",
    "    \n",
    "    # Dropout Layer \n",
    "    #fc3 = tf.nn.dropout(fc3, keep_prob)\n",
    "\n",
    "    # Layer 5: Fully Connected. Input = 84. Output = n_classes (43).\n",
    "    fc4_W  = tf.Variable(tf.truncated_normal(shape=(84, n_classes), mean = mu, stddev = sigma))\n",
    "    fc4_b  = tf.Variable(tf.zeros(n_classes))\n",
    "    logits = tf.matmul(fc3, fc4_W) + fc4_b\n",
    "    \n",
    "    return logits"
   ]
  },
  {
   "cell_type": "markdown",
   "metadata": {},
   "source": [
    "### Question 3\n",
    "\n",
    "_What does your final architecture look like? (Type of model, layers, sizes, connectivity, etc.)  For reference on how to build a deep neural network using TensorFlow, see [Deep Neural Network in TensorFlow\n",
    "](https://classroom.udacity.com/nanodegrees/nd013/parts/fbf77062-5703-404e-b60c-95b78b2f3f9e/modules/6df7ae49-c61c-4bb2-a23e-6527e69209ec/lessons/b516a270-8600-4f93-a0a3-20dfeabe5da6/concepts/83a3a2a2-a9bd-4b7b-95b0-eb924ab14432) from the classroom._\n"
   ]
  },
  {
   "cell_type": "markdown",
   "metadata": {},
   "source": [
    "**Answer:** My final architecture is a slight modification of the LeNet architecture: <br>\n",
    "1) Convolutional layer with a 5X5 filter, strides of 1 and 'VALID' padding (input depth = 3 and output depth = 12)<br>\n",
    "2) A rectified linear activation unit <br>\n",
    "3) A pooling layer with a 2X2X1 filter and 'VALID' padding <br>\n",
    "4) Convolutional layer with a 5X5 filter, strides of 1 and 'VALID' padding (input depth = 12 and output depth = 32)<br>\n",
    "5) A rectified linear activation unit <br>\n",
    "6) A pooling layer with a 2X2X1 filter and 'VALID' padding <br>\n",
    "7) Flattening the layer in 6 to a 1-dimensional array with 5x5x32 = 800 entries <br>\n",
    "8) A fully connected layer with 120 neurons <br>\n",
    "9) A rectified linear activation unit <br>\n",
    "10) A dropout layer <br> \n",
    "11) A fully connected layer with 84 neurons <br>\n",
    "12) A rectified linear activation unit <br>\n",
    "13) A fully connected output layer with 43 logits, i.e. the number of classes <br>\n",
    "\n",
    "I initialized features' weights and biases using truncated normals (mean = 0 and standard deviation = 0.1) and zeros, respectively."
   ]
  },
  {
   "cell_type": "code",
   "execution_count": 14,
   "metadata": {},
   "outputs": [],
   "source": [
    "### Train your model here.\n",
    "### Feel free to use as many code cells as needed.\n",
    "from sklearn.utils import shuffle\n",
    "\n",
    "x = tf.placeholder(tf.float32, (None, 32, 32, 3))\n",
    "y = tf.placeholder(tf.int32, (None))\n",
    "one_hot_y = tf.one_hot(y, n_classes)\n",
    "keep_prob = tf.placeholder(tf.float32)\n",
    "\n",
    "EPOCHS = 50\n",
    "BATCH_SIZE = 128\n",
    "rate = 0.001\n",
    "\n",
    "logits = LeNet(x, keep_prob)\n",
    "#tf.nn.softmax_cross_entropy_with_logits(logits = logits, labels=one_hot_y)\n",
    "\n",
    "\n",
    "#cross_entropy = tf.nn.softmax_cross_entropy_with_logits(logits, one_hot_y)\n",
    "cross_entropy = tf.nn.softmax_cross_entropy_with_logits(logits = logits, labels=one_hot_y)\n",
    "loss_operation = tf.reduce_mean(cross_entropy)\n",
    "optimizer = tf.train.AdamOptimizer(learning_rate = rate)\n",
    "training_operation = optimizer.minimize(loss_operation)\n",
    "\n",
    "correct_prediction = tf.equal(tf.argmax(logits, 1), tf.argmax(one_hot_y, 1))\n",
    "accuracy_operation = tf.reduce_mean(tf.cast(correct_prediction, tf.float32))\n",
    "saver = tf.train.Saver()\n",
    "\n",
    "def evaluate(X_data, y_data):\n",
    "    num_examples = len(X_data)\n",
    "    total_accuracy = 0\n",
    "    sess = tf.get_default_session()\n",
    "    for offset in range(0, num_examples, BATCH_SIZE):\n",
    "        batch_x, batch_y = X_data[offset:offset+BATCH_SIZE], y_data[offset:offset+BATCH_SIZE]\n",
    "        accuracy = sess.run(accuracy_operation, feed_dict={x: batch_x, y: batch_y, keep_prob: 1.0})\n",
    "        total_accuracy += (accuracy * len(batch_x))\n",
    "    return total_accuracy / num_examples"
   ]
  },
  {
   "cell_type": "code",
   "execution_count": 15,
   "metadata": {},
   "outputs": [
    {
     "name": "stdout",
     "output_type": "stream",
     "text": [
      "Training...\n",
      "\n",
      "EPOCH 1 ...\n",
      "Validation Accuracy = 0.946\n",
      "\n",
      "EPOCH 2 ...\n",
      "Validation Accuracy = 0.981\n",
      "\n",
      "EPOCH 3 ...\n",
      "Validation Accuracy = 0.987\n",
      "\n",
      "EPOCH 4 ...\n",
      "Validation Accuracy = 0.992\n",
      "\n",
      "EPOCH 5 ...\n",
      "Validation Accuracy = 0.990\n",
      "\n",
      "EPOCH 6 ...\n",
      "Validation Accuracy = 0.993\n",
      "\n",
      "EPOCH 7 ...\n",
      "Validation Accuracy = 0.995\n",
      "\n",
      "EPOCH 8 ...\n",
      "Validation Accuracy = 0.995\n",
      "\n",
      "EPOCH 9 ...\n",
      "Validation Accuracy = 0.996\n",
      "\n",
      "EPOCH 10 ...\n",
      "Validation Accuracy = 0.996\n",
      "\n",
      "EPOCH 11 ...\n",
      "Validation Accuracy = 0.996\n",
      "\n",
      "EPOCH 12 ...\n",
      "Validation Accuracy = 0.996\n",
      "\n",
      "EPOCH 13 ...\n",
      "Validation Accuracy = 0.996\n",
      "\n",
      "EPOCH 14 ...\n",
      "Validation Accuracy = 0.997\n",
      "\n",
      "EPOCH 15 ...\n",
      "Validation Accuracy = 0.996\n",
      "\n",
      "EPOCH 16 ...\n",
      "Validation Accuracy = 0.997\n",
      "\n",
      "EPOCH 17 ...\n",
      "Validation Accuracy = 0.997\n",
      "\n",
      "EPOCH 18 ...\n",
      "Validation Accuracy = 0.997\n",
      "\n",
      "EPOCH 19 ...\n",
      "Validation Accuracy = 0.996\n",
      "\n",
      "EPOCH 20 ...\n",
      "Validation Accuracy = 0.997\n",
      "\n",
      "EPOCH 21 ...\n",
      "Validation Accuracy = 0.995\n",
      "\n",
      "EPOCH 22 ...\n",
      "Validation Accuracy = 0.997\n",
      "\n",
      "EPOCH 23 ...\n",
      "Validation Accuracy = 0.997\n",
      "\n",
      "EPOCH 24 ...\n",
      "Validation Accuracy = 0.997\n",
      "\n",
      "EPOCH 25 ...\n",
      "Validation Accuracy = 0.996\n",
      "\n",
      "EPOCH 26 ...\n",
      "Validation Accuracy = 0.997\n",
      "\n",
      "EPOCH 27 ...\n",
      "Validation Accuracy = 0.997\n",
      "\n",
      "EPOCH 28 ...\n",
      "Validation Accuracy = 0.997\n",
      "\n",
      "EPOCH 29 ...\n",
      "Validation Accuracy = 0.997\n",
      "\n",
      "EPOCH 30 ...\n",
      "Validation Accuracy = 0.997\n",
      "\n",
      "EPOCH 31 ...\n",
      "Validation Accuracy = 0.997\n",
      "\n",
      "EPOCH 32 ...\n",
      "Validation Accuracy = 0.998\n",
      "\n",
      "EPOCH 33 ...\n",
      "Validation Accuracy = 0.997\n",
      "\n",
      "EPOCH 34 ...\n",
      "Validation Accuracy = 0.997\n",
      "\n",
      "EPOCH 35 ...\n",
      "Validation Accuracy = 0.998\n",
      "\n",
      "EPOCH 36 ...\n",
      "Validation Accuracy = 0.998\n",
      "\n",
      "EPOCH 37 ...\n",
      "Validation Accuracy = 0.997\n",
      "\n",
      "EPOCH 38 ...\n",
      "Validation Accuracy = 0.995\n",
      "\n",
      "EPOCH 39 ...\n",
      "Validation Accuracy = 0.997\n",
      "\n",
      "EPOCH 40 ...\n",
      "Validation Accuracy = 0.997\n",
      "\n",
      "EPOCH 41 ...\n",
      "Validation Accuracy = 0.997\n",
      "\n",
      "EPOCH 42 ...\n",
      "Validation Accuracy = 0.997\n",
      "\n",
      "EPOCH 43 ...\n",
      "Validation Accuracy = 0.996\n",
      "\n",
      "EPOCH 44 ...\n",
      "Validation Accuracy = 0.997\n",
      "\n",
      "EPOCH 45 ...\n",
      "Validation Accuracy = 0.997\n",
      "\n",
      "EPOCH 46 ...\n",
      "Validation Accuracy = 0.997\n",
      "\n",
      "EPOCH 47 ...\n",
      "Validation Accuracy = 0.997\n",
      "\n",
      "EPOCH 48 ...\n",
      "Validation Accuracy = 0.997\n",
      "\n",
      "EPOCH 49 ...\n",
      "Validation Accuracy = 0.997\n",
      "\n",
      "EPOCH 50 ...\n",
      "Validation Accuracy = 0.997\n",
      "\n",
      "Model saved\n"
     ]
    }
   ],
   "source": [
    "with tf.Session() as sess:\n",
    "    sess.run(tf.global_variables_initializer())\n",
    "    num_examples = len(X_train)\n",
    "    \n",
    "    print(\"Training...\")\n",
    "    print()\n",
    "    for i in range(EPOCHS):\n",
    "        X_train, y_train = shuffle(X_train, y_train)\n",
    "        for offset in range(0, num_examples, BATCH_SIZE):\n",
    "            end = offset + BATCH_SIZE\n",
    "            batch_x, batch_y = X_train[offset:end], y_train[offset:end]\n",
    "            sess.run(training_operation, feed_dict={x: batch_x, y: batch_y, keep_prob:0.5})\n",
    "            \n",
    "        validation_accuracy = evaluate(X_validation, y_validation)\n",
    "        print(\"EPOCH {} ...\".format(i+1))\n",
    "        print(\"Validation Accuracy = {:.3f}\".format(validation_accuracy))\n",
    "        print()\n",
    "        \n",
    "    saver.save(sess, './lenet')\n",
    "    print(\"Model saved\")"
   ]
  },
  {
   "cell_type": "code",
   "execution_count": 16,
   "metadata": {},
   "outputs": [
    {
     "name": "stdout",
     "output_type": "stream",
     "text": [
      "INFO:tensorflow:Restoring parameters from .\\lenet\n",
      "Test Accuracy = 0.962\n"
     ]
    }
   ],
   "source": [
    "with tf.Session() as sess:\n",
    "    saver.restore(sess, tf.train.latest_checkpoint('.'))\n",
    "\n",
    "    test_accuracy = evaluate(X_test, y_test)\n",
    "    print(\"Test Accuracy = {:.3f}\".format(test_accuracy))"
   ]
  },
  {
   "cell_type": "markdown",
   "metadata": {},
   "source": [
    "### Question 4\n",
    "\n",
    "_How did you train your model? (Type of optimizer, batch size, epochs, hyperparameters, etc.)_\n"
   ]
  },
  {
   "cell_type": "markdown",
   "metadata": {},
   "source": [
    "**Answer:** I trained my model using an AdamOptimizer based on backpropagation with a learning rate of 0.001. This optimizer minimized the \"loss\" function defined as the average cross entropy between the predicted logits and the actual one hot-encoded labels. During training I used 50 epochs and a batch size of 512. I also measured the validation accuracy for every epoch and printed that to screen."
   ]
  },
  {
   "cell_type": "markdown",
   "metadata": {},
   "source": [
    "### Question 5\n",
    "\n",
    "\n",
    "_What approach did you take in coming up with a solution to this problem? It may have been a process of trial and error, in which case, outline the steps you took to get to the final solution and why you chose those steps. Perhaps your solution involved an already well known implementation or architecture. In this case, discuss why you think this is suitable for the current problem._"
   ]
  },
  {
   "cell_type": "markdown",
   "metadata": {},
   "source": [
    "**Answer:** Being able to use the Amazon graphics cards, I was able to increase the number of epochs and batch size up to 50 and 512, respectively, without significantly increasing the training time. I started off my solution with a typical LeNet architecture which I ended up modifying as described in the previous answer. I went through a fairly long process of trial and error in order to find a good \"complexity\" for my model, trying not to fall into the risks of underfitting or overfitting. For example, adding too many neurons or layers to my model could easily result in overfitting. In my model's architecture I tried to correct this by adding a dropout layer. The LeNet architecture and convolutional neural networks are in general suitable solutions for the current problem, as our dataset is made up of images. In fact, these models can easily deal with spatial correlation, as in the case of images, and have very useful properties like translational invariance. Moreover, they present a hierarchical structure such that the very first layers capture very specific features of the images, whereas deeper layers compute more complicated \"concepts\".  "
   ]
  },
  {
   "cell_type": "markdown",
   "metadata": {},
   "source": [
    "---\n",
    "\n",
    "## Step 3: Test a Model on New Images\n",
    "\n",
    "Take several pictures of traffic signs that you find on the web or around you (at least five), and run them through your classifier on your computer to produce example results. The classifier might not recognize some local signs but it could prove interesting nonetheless.\n",
    "\n",
    "You may find `signnames.csv` useful as it contains mappings from the class id (integer) to the actual sign name."
   ]
  },
  {
   "cell_type": "markdown",
   "metadata": {},
   "source": [
    "### Implementation\n",
    "\n",
    "Use the code cell (or multiple code cells, if necessary) to implement the first step of your project. Once you have completed your implementation and are satisfied with the results, be sure to thoroughly answer the questions that follow."
   ]
  },
  {
   "cell_type": "code",
   "execution_count": 17,
   "metadata": {},
   "outputs": [
    {
     "name": "stdout",
     "output_type": "stream",
     "text": [
      "1-Speed-limit-30-km-h.jpg\n",
      "11-Right-of-way-at-the-next-intersection.jpg\n",
      "12-Priority-road.jpg\n",
      "14-Stop.jpg\n",
      "15-No-vehicles.jpg\n"
     ]
    },
    {
     "data": {
      "image/png": "[encoded data removed]",
      "text/plain": [
       "<Figure size 72x72 with 1 Axes>"
      ]
     },
     "metadata": {
      "needs_background": "light"
     },
     "output_type": "display_data"
    },
    {
     "data": {
      "image/png": "[encoded data removed]",
      "text/plain": [
       "<Figure size 72x72 with 1 Axes>"
      ]
     },
     "metadata": {
      "needs_background": "light"
     },
     "output_type": "display_data"
    },
    {
     "data": {
      "image/png": "[encoded data removed]",
      "text/plain": [
       "<Figure size 72x72 with 1 Axes>"
      ]
     },
     "metadata": {
      "needs_background": "light"
     },
     "output_type": "display_data"
    },
    {
     "data": {
      "image/png": "[encoded data removed]",
      "text/plain": [
       "<Figure size 72x72 with 1 Axes>"
      ]
     },
     "metadata": {
      "needs_background": "light"
     },
     "output_type": "display_data"
    },
    {
     "data": {
      "image/png": "[encoded data removed]",
      "text/plain": [
       "<Figure size 72x72 with 1 Axes>"
      ]
     },
     "metadata": {
      "needs_background": "light"
     },
     "output_type": "display_data"
    }
   ],
   "source": [
    "### Load the images and plot them here.\n",
    "### Feel free to use as many code cells as needed.\n",
    "from PIL import Image\n",
    "import os\n",
    "\n",
    "desired_width = 32\n",
    "desired_height = 32\n",
    "\n",
    "im_new_list = []\n",
    "\n",
    "for filename in os.listdir('img_internet'):\n",
    "    print(filename)\n",
    "    im = Image.open('img_internet/' + filename)\n",
    "    im_new = im.resize((desired_width, desired_height), Image.ANTIALIAS)\n",
    "    plt.figure(figsize=(1,1))\n",
    "    plt.imshow(im_new)\n",
    "    #print(im_new.shape)\n",
    "    im_new_list.append(im_new)"
   ]
  },
  {
   "cell_type": "markdown",
   "metadata": {},
   "source": [
    "### Question 6\n",
    "\n",
    "_Choose five candidate images of traffic signs and provide them in the report. Are there any particular qualities of the image(s) that might make classification difficult? It could be helpful to plot the images in the notebook._\n",
    "\n"
   ]
  },
  {
   "cell_type": "markdown",
   "metadata": {},
   "source": [
    "**Answer:** I displayed the five test images above. The five test pictures I chose show quite different backgrounds and light conditions. In particular, the road work and bumpy road traffic signs show a poor contrast with their ground support and background, respectively. In fact they have something red right next to them. Moreover, the 30km/h speed limit traffic sign looks pretty dirty near the top."
   ]
  },
  {
   "cell_type": "code",
   "execution_count": 17,
   "metadata": {},
   "outputs": [
    {
     "name": "stdout",
     "output_type": "stream",
     "text": [
      "Actual: 25,Road work\n",
      "Prediction: General caution\n",
      " (18) \n",
      "\n",
      "Actual: 1,Speed limit (30km/h)\n",
      "Prediction: Speed limit (30km/h)\n",
      " (1) \n",
      "\n",
      "Actual: 22,Bumpy road\n",
      "Prediction: Bumpy road\n",
      " (22) \n",
      "\n",
      "Actual: 28,Children crossing\n",
      "Prediction: Children crossing\n",
      " (28) \n",
      "\n",
      "Actual: 14,Stop\n",
      "Prediction: Stop\n",
      " (14) \n",
      "\n"
     ]
    },
    {
     "data": {
      "image/png": "[encoded data removed]",
      "text/plain": [
       "<matplotlib.figure.Figure at 0x7f0a86d9f358>"
      ]
     },
     "metadata": {},
     "output_type": "display_data"
    },
    {
     "data": {
      "image/png": "[encoded data removed]",
      "text/plain": [
       "<matplotlib.figure.Figure at 0x7f0b2d57f390>"
      ]
     },
     "metadata": {},
     "output_type": "display_data"
    },
    {
     "data": {
      "image/png": "[encoded data removed]",
      "text/plain": [
       "<matplotlib.figure.Figure at 0x7f0ba749d438>"
      ]
     },
     "metadata": {},
     "output_type": "display_data"
    },
    {
     "data": {
      "image/png": "[encoded data removed]",
      "text/plain": [
       "<matplotlib.figure.Figure at 0x7f0ba749a208>"
      ]
     },
     "metadata": {},
     "output_type": "display_data"
    },
    {
     "data": {
      "image/png": "[encoded data removed]",
      "text/plain": [
       "<matplotlib.figure.Figure at 0x7f0a86ec1fd0>"
      ]
     },
     "metadata": {},
     "output_type": "display_data"
    }
   ],
   "source": [
    "### Run the predictions here.\n",
    "### Feel free to use as many code cells as needed.\n",
    "\n",
    "actuals = []\n",
    "actuals.append('14,Stop')\n",
    "actuals.append('28,Children crossing')\n",
    "actuals.append('22,Bumpy road')\n",
    "actuals.append('1,Speed limit (30km/h)')\n",
    "actuals.append('25,Road work')\n",
    "logits_list = []\n",
    "\n",
    "for img in im_new_list:\n",
    "    im_new = np.asarray(img)\n",
    "    #im_cl = np.zeros([32,32,3])\n",
    "    #im_cl[:][:][0] = clahe.apply(im_new[:][:][0])\n",
    "    #im_cl[:][:][1] = clahe.apply(im_new[:][:][1])\n",
    "    #im_cl[:][:][2] = clahe.apply(im_new[:][:][2])\n",
    "    im_new = im_new[np.newaxis, ...]\n",
    "    im_new = -1 + 2*(im_new/255)   \n",
    "    with tf.Session() as sess:\n",
    "        saver.restore(sess, tf.train.latest_checkpoint('.'))\n",
    "        logits_new = sess.run(logits, feed_dict = {x: im_new, keep_prob: 1.0})\n",
    "        logits_list.append(logits_new)\n",
    "        prediction = np.argmax(logits_new)\n",
    "        #print(prediction)\n",
    "        print('Actual: ' + actuals.pop())\n",
    "        print('Prediction: ' + str(dict_signs[prediction]) + \" (\" + str(prediction)+ \") \\n\")\n",
    "        plt.figure(figsize=(1,1))\n",
    "        plt.imshow(img)\n",
    "        \n"
   ]
  },
  {
   "cell_type": "markdown",
   "metadata": {},
   "source": [
    "### Question 7\n",
    "\n",
    "_Is your model able to perform equally well on captured pictures when compared to testing on the dataset? The simplest way to do this check the accuracy of the predictions. For example, if the model predicted 1 out of 5 signs correctly, it's 20% accurate._\n",
    "\n",
    "_**NOTE:** You could check the accuracy manually by using `signnames.csv` (same directory). This file has a mapping from the class id (0-42) to the corresponding sign name. So, you could take the class id the model outputs, lookup the name in `signnames.csv` and see if it matches the sign from the image._\n"
   ]
  },
  {
   "cell_type": "markdown",
   "metadata": {},
   "source": [
    "**Answer:** The five images shown above were randomly taken from the Internet. My model has an 80% accuracy on these 5 test images (i.e. 4 out of 5 traffic sign correctly predicted). This result is less than the accuracy I got on the provided test data set, i.e. 96.1%. This could be due to the small size of this test set and to the fact that in different countries traffic signs might be slightly different."
   ]
  },
  {
   "cell_type": "code",
   "execution_count": 18,
   "metadata": {},
   "outputs": [
    {
     "name": "stdout",
     "output_type": "stream",
     "text": [
      "Top 5: TopKV2(values=array([  1.00000000e+00,   3.33784432e-13,   1.13291385e-17,\n",
      "         6.04670010e-19,   5.52352697e-19], dtype=float32), indices=array([18, 14, 26, 25,  4], dtype=int32))\n",
      "Top 5: TopKV2(values=array([  9.99994159e-01,   5.75650529e-06,   1.48018671e-07,\n",
      "         2.58121873e-14,   5.18540812e-16], dtype=float32), indices=array([ 1,  5,  2, 42,  3], dtype=int32))\n",
      "Top 5: TopKV2(values=array([  1.00000000e+00,   1.32992107e-27,   9.80624012e-32,\n",
      "         6.32752093e-32,   2.42538877e-34], dtype=float32), indices=array([22, 29, 20, 25, 24], dtype=int32))\n",
      "Top 5: TopKV2(values=array([  1.00000000e+00,   5.10338929e-24,   8.78536049e-25,\n",
      "         1.31620701e-29,   9.82939574e-30], dtype=float32), indices=array([28, 24, 29,  3, 30], dtype=int32))\n",
      "Top 5: TopKV2(values=array([  1.00000000e+00,   2.26571966e-18,   1.57794256e-18,\n",
      "         1.39096188e-20,   1.63548388e-24], dtype=float32), indices=array([14,  5, 17,  1, 10], dtype=int32))\n"
     ]
    }
   ],
   "source": [
    "### Visualize the softmax probabilities here.\n",
    "### Feel free to use as many code cells as needed.\n",
    "logits_soft = tf.placeholder(tf.float32, (n_classes))\n",
    "probabilities = tf.nn.softmax(logits_soft, name=None)\n",
    "\n",
    "with tf.Session() as sess:\n",
    "    for logits_i in logits_list:\n",
    "        logits_i = np.squeeze(logits_i)\n",
    "        prob = sess.run(probabilities, feed_dict = {logits_soft: logits_i})\n",
    "        #print(prob)\n",
    "        top5 = sess.run(tf.nn.top_k(tf.constant(prob), k=5))\n",
    "        print(\"Top 5: \" + str(top5)) \n",
    "        \n",
    "        "
   ]
  },
  {
   "cell_type": "markdown",
   "metadata": {},
   "source": [
    "### Question 8\n",
    "\n",
    "*Use the model's softmax probabilities to visualize the **certainty** of its predictions, [`tf.nn.top_k`](https://www.tensorflow.org/versions/r0.12/api_docs/python/nn.html#top_k) could prove helpful here. Which predictions is the model certain of? Uncertain? If the model was incorrect in its initial prediction, does the correct prediction appear in the top k? (k should be 5 at most)*\n",
    "\n",
    "`tf.nn.top_k` will return the values and indices (class ids) of the top k predictions. So if k=3, for each sign, it'll return the 3 largest probabilities (out of a possible 43) and the correspoding class ids.\n",
    "\n",
    "Take this numpy array as an example:\n",
    "\n",
    "```\n",
    "# (5, 6) array\n",
    "a = np.array([[ 0.24879643,  0.07032244,  0.12641572,  0.34763842,  0.07893497,\n",
    "         0.12789202],\n",
    "       [ 0.28086119,  0.27569815,  0.08594638,  0.0178669 ,  0.18063401,\n",
    "         0.15899337],\n",
    "       [ 0.26076848,  0.23664738,  0.08020603,  0.07001922,  0.1134371 ,\n",
    "         0.23892179],\n",
    "       [ 0.11943333,  0.29198961,  0.02605103,  0.26234032,  0.1351348 ,\n",
    "         0.16505091],\n",
    "       [ 0.09561176,  0.34396535,  0.0643941 ,  0.16240774,  0.24206137,\n",
    "         0.09155967]])\n",
    "```\n",
    "\n",
    "Running it through `sess.run(tf.nn.top_k(tf.constant(a), k=3))` produces:\n",
    "\n",
    "```\n",
    "TopKV2(values=array([[ 0.34763842,  0.24879643,  0.12789202],\n",
    "       [ 0.28086119,  0.27569815,  0.18063401],\n",
    "       [ 0.26076848,  0.23892179,  0.23664738],\n",
    "       [ 0.29198961,  0.26234032,  0.16505091],\n",
    "       [ 0.34396535,  0.24206137,  0.16240774]]), indices=array([[3, 0, 5],\n",
    "       [0, 1, 4],\n",
    "       [0, 5, 1],\n",
    "       [1, 3, 5],\n",
    "       [1, 4, 3]], dtype=int32))\n",
    "```\n",
    "\n",
    "Looking just at the first row we get `[ 0.34763842,  0.24879643,  0.12789202]`, you can confirm these are the 3 largest probabilities in `a`. You'll also notice `[3, 0, 5]` are the corresponding indices."
   ]
  },
  {
   "cell_type": "markdown",
   "metadata": {},
   "source": [
    "**Answer:** As we can observe from the softmax probabilities shown above, my model is very confident of the predictions it makes for the correctly classified traffic signs: <br>\n",
    "\n",
    "1) Speed limit (30km/h) --> 99.9% <br>\n",
    "2) Bumpy road           --> 99.9% <br>\n",
    "3) Children crossing    --> 99.9% <br>\n",
    "4) Stop                 --> 99.9% <br>\n",
    "\n",
    "My model is also very sure about its incorrect prediction for the road work traffic sign. In fact, its top 5 predictions are <br>\n",
    "\n",
    "i) General caution (18)       --> 99.9% <br>\n",
    "ii) Stop (14)                 --> 3.33784432e-11% <br>\n",
    "iii) Traffic signals (26)     --> 1.13291385e-15% <br>\n",
    "iv) Road work (25)            --> 6.04670010e-17%   (actual traffic sign) <br>\n",
    "v) Speed limit (70km/h) (4)   --> 5.52352697e-17% <br>\n",
    "\n",
    "Even though the prediction for the road work traffic sign is incorrect, the correct prediction appears in the top 5 predictions. "
   ]
  },
  {
   "cell_type": "markdown",
   "metadata": {},
   "source": [
    "> **Note**: Once you have completed all of the code implementations and successfully answered each question above, you may finalize your work by exporting the iPython Notebook as an HTML document. You can do this by using the menu above and navigating to  \\n\",\n",
    "    \"**File -> Download as -> HTML (.html)**. Include the finished document along with this notebook as your submission."
   ]
  },
  {
   "cell_type": "code",
   "execution_count": null,
   "metadata": {
    "collapsed": true
   },
   "outputs": [],
   "source": []
  }
 ],
 "metadata": {
  "anaconda-cloud": {},
  "kernelspec": {
   "display_name": "Python 3",
   "language": "python",
   "name": "python3"
  },
  "language_info": {
   "codemirror_mode": {
    "name": "ipython",
    "version": 3
   },
   "file_extension": ".py",
   "mimetype": "text/x-python",
   "name": "python",
   "nbconvert_exporter": "python",
   "pygments_lexer": "ipython3",
   "version": "3.7.4"
  },
  "widgets": {
   "state": {},
   "version": "1.1.2"
  }
 },
 "nbformat": 4,
 "nbformat_minor": 1
}
